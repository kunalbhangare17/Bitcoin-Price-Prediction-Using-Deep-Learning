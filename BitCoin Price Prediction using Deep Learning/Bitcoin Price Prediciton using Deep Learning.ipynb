{
 "cells": [
  {
   "cell_type": "code",
   "execution_count": 1,
   "metadata": {},
   "outputs": [],
   "source": [
    "import pandas as pd\n",
    "import numpy as np\n",
    "import matplotlib.pyplot as plt"
   ]
  },
  {
   "cell_type": "code",
   "execution_count": 2,
   "metadata": {},
   "outputs": [],
   "source": [
    "coindata = pd.read_csv('CoinMarketCapWebApp.csv')\n",
    "googledata = pd.read_csv('GoogleVolume.csv')"
   ]
  },
  {
   "cell_type": "code",
   "execution_count": 5,
   "metadata": {},
   "outputs": [],
   "source": [
    "coindata = coindata.drop(['#'], axis=1)\n",
    "coindata.columns = ['Date','Open','High','Low','Close','Volume']\n",
    "googledata = googledata.drop(['Date','#'], axis=1)"
   ]
  },
  {
   "cell_type": "code",
   "execution_count": 6,
   "metadata": {},
   "outputs": [],
   "source": [
    "last = pd.concat([coindata,googledata], axis=1)"
   ]
  },
  {
   "cell_type": "code",
   "execution_count": 8,
   "metadata": {},
   "outputs": [],
   "source": [
    "last.to_csv('Bitcoin3D.csv', index=False)"
   ]
  },
  {
   "cell_type": "code",
   "execution_count": 12,
   "metadata": {},
   "outputs": [],
   "source": [
    "import pandas as pd\n",
    "import matplotlib.pyplot as plt\n",
    "import numpy as np\n",
    "import math\n",
    "from sklearn.preprocessing import MinMaxScaler\n",
    "from sklearn.metrics import mean_squared_error\n",
    "from keras.models import Sequential\n",
    "from keras.layers import Dense, Activation, Dropout\n",
    "from keras.layers import LSTM\n",
    "from keras.layers import dot"
   ]
  },
  {
   "cell_type": "code",
   "execution_count": 14,
   "metadata": {},
   "outputs": [],
   "source": [
    "\n",
    "def new_dataset(dataset, step_size):\n",
    "    data_X, data_Y = [], []\n",
    "    for i in range(len(dataset)-step_size-1):\n",
    "        a = dataset[i:(i+step_size), 0]\n",
    "        data_X.append(a)\n",
    "        data_Y.append(dataset[i + step_size, 0])\n",
    "    return np.array(data_X), np.array(data_Y)"
   ]
  },
  {
   "cell_type": "code",
   "execution_count": 16,
   "metadata": {},
   "outputs": [],
   "source": [
    "df = pd.read_csv(\"Bitcoin1D.csv\")\n",
    "df['Date'] = pd.to_datetime(df['Date'])\n",
    "df = df.reindex(index= df.index[::-1])"
   ]
  },
  {
   "cell_type": "code",
   "execution_count": 17,
   "metadata": {},
   "outputs": [],
   "source": [
    "zaman = np.arange(1, len(df) + 1, 1)\n",
    "OHCL_avg = df.mean(axis=1)"
   ]
  },
  {
   "cell_type": "code",
   "execution_count": 18,
   "metadata": {},
   "outputs": [],
   "source": [
    "OHCL_avg = np.reshape(OHCL_avg.values, (len(OHCL_avg),1)) #7288 data\n",
    "scaler = MinMaxScaler(feature_range=(0,1))\n",
    "OHCL_avg = scaler.fit_transform(OHCL_avg)"
   ]
  },
  {
   "cell_type": "code",
   "execution_count": 20,
   "metadata": {},
   "outputs": [],
   "source": [
    "#print(OHCL_avg)\n",
    "train_OHLC = int(len(OHCL_avg)*0.56)\n",
    "test_OHLC = len(OHCL_avg) - train_OHLC\n",
    "train_OHLC, test_OHLC = OHCL_avg[0:train_OHLC,:], OHCL_avg[train_OHLC:len(OHCL_avg),:]\n",
    "#Train the datasets and test it\n",
    "trainX, trainY = new_dataset(train_OHLC,1)\n",
    "testX, testY = new_dataset(test_OHLC,1)"
   ]
  },
  {
   "cell_type": "code",
   "execution_count": 21,
   "metadata": {},
   "outputs": [],
   "source": [
    "trainX = np.reshape(trainX, (trainX.shape[0],1,trainX.shape[1]))\n",
    "testX = np.reshape(testX, (testX.shape[0],1,testX.shape[1]))\n",
    "step_size = 1"
   ]
  },
  {
   "cell_type": "code",
   "execution_count": 23,
   "metadata": {},
   "outputs": [],
   "source": [
    "model = Sequential()\n",
    "model.add(LSTM(128, input_shape=(1, step_size)))\n",
    "model.add(Dropout(0.1))\n",
    "model.add(Dense(1))\n",
    "model.add(Activation('linear'))"
   ]
  },
  {
   "cell_type": "code",
   "execution_count": 25,
   "metadata": {},
   "outputs": [
    {
     "name": "stdout",
     "output_type": "stream",
     "text": [
      "Epoch 1/10\n",
      "537/537 - 2s - loss: 0.0101\n",
      "Epoch 2/10\n",
      "537/537 - 1s - loss: 2.7073e-04\n",
      "Epoch 3/10\n",
      "537/537 - 1s - loss: 2.3575e-04\n",
      "Epoch 4/10\n",
      "537/537 - 1s - loss: 2.0943e-04\n",
      "Epoch 5/10\n",
      "537/537 - 1s - loss: 1.9394e-04\n",
      "Epoch 6/10\n",
      "537/537 - 1s - loss: 1.8694e-04\n",
      "Epoch 7/10\n",
      "537/537 - 1s - loss: 1.6827e-04\n",
      "Epoch 8/10\n",
      "537/537 - 1s - loss: 1.5626e-04\n",
      "Epoch 9/10\n",
      "537/537 - 1s - loss: 1.4607e-04\n",
      "Epoch 10/10\n",
      "537/537 - 1s - loss: 1.3686e-04\n"
     ]
    },
    {
     "data": {
      "text/plain": [
       "<tensorflow.python.keras.callbacks.History at 0x7f9a721510a0>"
      ]
     },
     "execution_count": 25,
     "metadata": {},
     "output_type": "execute_result"
    }
   ],
   "source": [
    "model.compile(loss='mean_squared_error', optimizer='adam')\n",
    "model.fit(trainX, trainY, epochs=10, batch_size=25, verbose=2)"
   ]
  },
  {
   "cell_type": "code",
   "execution_count": 26,
   "metadata": {},
   "outputs": [],
   "source": [
    "trainPredict = model.predict(trainX)\n",
    "testPredict = model.predict(testX)\n",
    "trainPredict = scaler.inverse_transform(trainPredict)\n",
    "trainY = scaler.inverse_transform([trainY])\n",
    "testPredict = scaler.inverse_transform(testPredict)\n",
    "testY = scaler.inverse_transform([testY])"
   ]
  },
  {
   "cell_type": "code",
   "execution_count": 27,
   "metadata": {},
   "outputs": [],
   "source": [
    "trainScore = math.sqrt(mean_squared_error(trainY[0], \n",
    "                       trainPredict[:,0]))\n",
    "testScore = math.sqrt(mean_squared_error(testY[0], \n",
    "                       testPredict[:,0]))"
   ]
  },
  {
   "cell_type": "code",
   "execution_count": 29,
   "metadata": {},
   "outputs": [],
   "source": [
    "trainPredictPlot = np.empty_like(OHCL_avg)\n",
    "trainPredictPlot[:,:] = np.nan\n",
    "trainPredictPlot[step_size:len(trainPredict)+step_size,:] = trainPredict"
   ]
  },
  {
   "cell_type": "code",
   "execution_count": 30,
   "metadata": {},
   "outputs": [],
   "source": [
    "testPredictPlot = np.empty_like(OHCL_avg)\n",
    "testPredictPlot[:,:] = np.nan\n",
    "testPredictPlot[len(trainPredict)+(step_size*2)+1:len(OHCL_avg)-1,:] = testPredict"
   ]
  },
  {
   "cell_type": "code",
   "execution_count": 32,
   "metadata": {},
   "outputs": [
    {
     "data": {
      "image/png": "[encoded data removed]",
      "text/plain": [
       "<Figure size 432x288 with 1 Axes>"
      ]
     },
     "metadata": {
      "needs_background": "light"
     },
     "output_type": "display_data"
    }
   ],
   "source": [
    "OHCL_avg = scaler.inverse_transform(OHCL_avg)\n",
    "plt.plot(OHCL_avg, 'g', label='Orginal Dataset')\n",
    "plt.plot(trainPredictPlot, 'r', label='Training Set')\n",
    "plt.plot(testPredictPlot, 'b', label='Predicted price/test set')\n",
    "plt.title(\"Bitcoin Predicted Prices\")\n",
    "plt.xlabel('Time', fontsize=12)\n",
    "plt.ylabel('Close Price', fontsize=12)\n",
    "plt.legend(loc='upper right')\n",
    "plt.show()"
   ]
  },
  {
   "cell_type": "code",
   "execution_count": null,
   "metadata": {},
   "outputs": [],
   "source": []
  }
 ],
 "metadata": {
  "kernelspec": {
   "display_name": "Python 3",
   "language": "python",
   "name": "python3"
  },
  "language_info": {
   "codemirror_mode": {
    "name": "ipython",
    "version": 3
   },
   "file_extension": ".py",
   "mimetype": "text/x-python",
   "name": "python",
   "nbconvert_exporter": "python",
   "pygments_lexer": "ipython3",
   "version": "3.8.3"
  }
 },
 "nbformat": 4,
 "nbformat_minor": 4
}
